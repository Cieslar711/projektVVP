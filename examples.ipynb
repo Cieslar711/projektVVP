{
 "cells": [
  {
   "cell_type": "markdown",
   "source": [],
   "metadata": {
    "collapsed": false
   },
   "id": "a32a1dec28d81b53"
  },
  {
   "cell_type": "code",
   "execution_count": 47,
   "outputs": [],
   "source": [
    "import numpy as np\n",
    "import matplotlib\n",
    "import matplotlib.pyplot as plt\n",
    "from matplotlib.widgets import Slider,RadioButtons, RangeSlider\n",
    "\n",
    "matplotlib.use('TkAgg')"
   ],
   "metadata": {
    "collapsed": false,
    "ExecuteTime": {
     "end_time": "2025-05-18T15:20:54.256196900Z",
     "start_time": "2025-05-18T15:20:54.252003300Z"
    }
   },
   "id": "ed49bd73f894aa29"
  },
  {
   "cell_type": "code",
   "execution_count": 48,
   "outputs": [],
   "source": [
    "def mandelbrot_set(x_min: float, x_max: float, y_min: float, y_max: float, n: int, k: int):\n",
    "    x = np.linspace(x_min, x_max, n)\n",
    "    y = np.linspace(y_min, y_max, n)\n",
    "    x_realne, y_imaginarni = np.meshgrid(x, y)\n",
    "    matice_komplexnich_cisel = x_realne + y_imaginarni * 1j\n",
    "    divergence_matrix = np.zeros((n, n), dtype=int)\n",
    "    matice_z = np.zeros((n, n), dtype=complex)\n",
    "    for i in range(k):\n",
    "        kontrola = np.abs(matice_z) < 2\n",
    "        matice_z[kontrola] = matice_z[kontrola] ** 2 + matice_komplexnich_cisel[kontrola]\n",
    "        divergence_matrix = np.where((np.absolute(matice_z) >= 2) & (divergence_matrix == 0), i, divergence_matrix)\n",
    "\n",
    "    divergence_matrix = np.where(divergence_matrix == 0, k, divergence_matrix)\n",
    "\n",
    "    return divergence_matrix"
   ],
   "metadata": {
    "collapsed": false,
    "ExecuteTime": {
     "end_time": "2025-05-18T15:20:54.278582100Z",
     "start_time": "2025-05-18T15:20:54.268694400Z"
    }
   },
   "id": "aabcca1f8ae66a25"
  },
  {
   "cell_type": "code",
   "execution_count": 49,
   "outputs": [],
   "source": [
    "def mandelbrot_set(x_min: float, x_max: float, y_min: float, y_max: float, n: int, k: int):\n",
    "    x = np.linspace(x_min, x_max, n)\n",
    "    y = np.linspace(y_min, y_max, n)\n",
    "    x_realne, y_imaginarni = np.meshgrid(x, y)\n",
    "    matice_komplexnich_cisel = x_realne + y_imaginarni * 1j\n",
    "    divergence_matrix = np.zeros((n, n), dtype=int)\n",
    "    matice_z = np.zeros((n, n), dtype=complex)\n",
    "    for i in range(k):\n",
    "        kontrola = np.abs(matice_z) < 2\n",
    "        matice_z[kontrola] = matice_z[kontrola] ** 2 + matice_komplexnich_cisel[kontrola]\n",
    "        divergence_matrix = np.where((np.absolute(matice_z) >= 2) & (divergence_matrix == 0), i, divergence_matrix)\n",
    "\n",
    "    divergence_matrix = np.where(divergence_matrix == 0, k, divergence_matrix)\n",
    "\n",
    "    return divergence_matrix\n",
    "\n",
    "def vizualizace_mandelbrot(x_min: float, x_max: float, y_min: float, y_max: float, n: int, k: int):\n",
    "    divergence_matrix = mandelbrot_set(x_min, x_max, y_min, y_max, n, k)\n",
    "    fig, ax = plt.subplots()\n",
    "    obrazec = plt.imshow(divergence_matrix, cmap='inferno', extent=(x_min, x_max, y_min, y_max))\n",
    "\n",
    "    ax_iterations = plt.axes([0.20, 0.1, 0.65, 0.03], facecolor='lightgoldenrodyellow')\n",
    "    it_slider = Slider(ax_iterations, 'Počet iterací', 50, 1000, valinit=k, valstep=1)\n",
    "\n",
    "    radio_background = 'lightgoldenrodyellow'\n",
    "    color_map = plt.axes([0.05, 0.4, 0.2, 0.4], facecolor=radio_background)\n",
    "    cmap_options = ['inferno', 'plasma', 'viridis', 'magma']\n",
    "    radio = RadioButtons(color_map, cmap_options)\n",
    "\n",
    "    slider_ax = fig.add_axes([0.20, 0.04, 0.60, 0.03])\n",
    "    slider_x = RangeSlider(slider_ax, \"Osa x\", x_min, x_max)\n",
    "    slider_ay = fig.add_axes([0.20, 0.005, 0.60, 0.03])\n",
    "    slider_y = RangeSlider(slider_ay, \"Osa y\", y_min, y_max)\n",
    "\n",
    "\n",
    "    def change_cmap(label):\n",
    "        obrazec.set_cmap(label)\n",
    "        fig.canvas.draw_idle()\n",
    "\n",
    "    radio.on_clicked(change_cmap)\n",
    "\n",
    "    ax.set_xlabel('reálná část')\n",
    "    ax.set_ylabel('imaginární část')\n",
    "    ax.set_title(\"Mandelbrotova množina\")\n",
    "\n",
    "    def update(val):\n",
    "        x_min_update, x_max_update = slider_x.val\n",
    "        y_min_update, y_max_update = slider_y.val\n",
    "        k_update = it_slider.val\n",
    "        divergence_matrix = mandelbrot_set(x_min_update, x_max_update, y_min_update, y_max_update, n, k_update)\n",
    "        obrazec.set_data(divergence_matrix)\n",
    "        obrazec.set_extent((x_min_update, x_max_update, y_min_update, y_max_update))\n",
    "        fig.canvas.draw_idle()\n",
    "\n",
    "    plt.subplots_adjust(bottom=0.25)\n",
    "    slider_x.on_changed(update)\n",
    "    slider_y.on_changed(update)\n",
    "    it_slider.on_changed(update)\n",
    "    plt.ion()\n",
    "    plt.show(block=True)"
   ],
   "metadata": {
    "collapsed": false,
    "ExecuteTime": {
     "end_time": "2025-05-18T15:20:54.297823400Z",
     "start_time": "2025-05-18T15:20:54.293429400Z"
    }
   },
   "id": "34c23ea46dee1709"
  },
  {
   "cell_type": "code",
   "execution_count": 50,
   "outputs": [],
   "source": [
    "def julius_set(c: complex, x_min: float, x_max: float, y_min: float, y_max: float, n: int, k: int):\n",
    "    x = np.linspace(x_min, x_max, n)\n",
    "    y = np.linspace(y_min, y_max, n)\n",
    "    x_realne, y_imaginarni = np.meshgrid(x, y)\n",
    "    matice_komplexnich_cisel = x_realne + y_imaginarni * 1j\n",
    "    divergence_matrix = np.zeros((n, n), dtype=int)\n",
    "\n",
    "    for i in range(k):\n",
    "        kontrola = np.abs(matice_komplexnich_cisel) < 2\n",
    "        matice_komplexnich_cisel[kontrola] = matice_komplexnich_cisel[kontrola] ** 2 + c\n",
    "        divergence_matrix = np.where((np.absolute(matice_komplexnich_cisel) >= 2) & (divergence_matrix == 0), i, divergence_matrix)\n",
    "\n",
    "    divergence_matrix = np.where(divergence_matrix == 0, k, divergence_matrix)\n",
    "\n",
    "    return divergence_matrix"
   ],
   "metadata": {
    "collapsed": false,
    "ExecuteTime": {
     "end_time": "2025-05-18T15:20:54.322067500Z",
     "start_time": "2025-05-18T15:20:54.314347Z"
    }
   },
   "id": "948fa980fd4cb6a"
  },
  {
   "cell_type": "code",
   "execution_count": 51,
   "outputs": [],
   "source": [
    "def vizualizace_julius(c: complex, x_min: float, x_max: float, y_min: float, y_max: float, n: int, k: int):\n",
    "    divergence_matrix = julius_set(c, x_min, x_max, y_min, y_max, n, k)\n",
    "    init_real = 0.285\n",
    "    init_imag = 0.01\n",
    "    c_init = complex(init_real, init_imag)\n",
    "    fig, ax = plt.subplots()\n",
    "    ax.set_xlabel('reálná část')\n",
    "    ax.set_ylabel('imaginární část')\n",
    "    ax.set_title(\"Juliova množina\")\n",
    "    plt.subplots_adjust(bottom = 0.25)\n",
    "    obrazec = ax.imshow(divergence_matrix, cmap='twilight', extent=(x_min, x_max, y_min, y_max))\n",
    "\n",
    "    ax_real = plt.axes([0.20, 0.18, 0.65, 0.03], facecolor='lightgoldenrodyellow')\n",
    "    real_slider = Slider(ax_real, 'Reálná část', x_min, x_max, valinit=c.real)\n",
    "\n",
    "    ax_imag = plt.axes([0.20, 0.13, 0.65, 0.03], facecolor='lightgoldenrodyellow')\n",
    "    imag_slider = Slider(ax_imag, 'Imaginární část', y_min, y_max, valinit=c.imag)\n",
    "\n",
    "    ax_iterations = plt.axes([0.20, 0.08, 0.65, 0.03], facecolor='lightgoldenrodyellow')\n",
    "    it_slider = Slider(ax_iterations, 'Počet iterací', 50, 1000, valinit=k, valstep=1)\n",
    "\n",
    "    slider_ax = fig.add_axes([0.20, 0.03, 0.60, 0.03])\n",
    "    slider_x = RangeSlider(slider_ax, \"Osa x\", x_min, x_max)\n",
    "    slider_ay = fig.add_axes([0.20, 0.00, 0.60, 0.03])\n",
    "    slider_y = RangeSlider(slider_ay, \"Osa y\", y_min, y_max)\n",
    "\n",
    "    radio_background = 'lightgoldenrodyellow'\n",
    "    color_map = plt.axes([0.05, 0.4, 0.2, 0.4], facecolor=radio_background)\n",
    "    cmap_options = ['inferno', 'plasma', 'viridis', 'magma']\n",
    "    radio = RadioButtons(color_map, cmap_options)\n",
    "\n",
    "    def change_cmap(label):\n",
    "        obrazec.set_cmap(label)\n",
    "        fig.canvas.draw_idle()\n",
    "\n",
    "    radio.on_clicked(change_cmap)\n",
    "\n",
    "    def update(val):\n",
    "        c = complex(real_slider.val, imag_slider.val)\n",
    "        x_min_update, x_max_update = slider_x.val\n",
    "        y_min_update, y_max_update = slider_y.val\n",
    "        k_update = it_slider.val\n",
    "        divergence_matrix = julius_set(c, x_min_update, x_max_update, y_min_update, y_max_update, n, k_update)\n",
    "        obrazec.set_data(divergence_matrix)\n",
    "        fig.canvas.draw_idle()\n",
    "\n",
    "    real_slider.on_changed(update)\n",
    "    imag_slider.on_changed(update)\n",
    "    slider_x.on_changed(update)\n",
    "    slider_y.on_changed(update)\n",
    "    it_slider.on_changed(update)\n",
    "    plt.subplots_adjust(bottom=0.3)\n",
    "    plt.ion()\n",
    "    plt.show(block=True)"
   ],
   "metadata": {
    "collapsed": false,
    "ExecuteTime": {
     "end_time": "2025-05-18T15:20:54.346403800Z",
     "start_time": "2025-05-18T15:20:54.342406300Z"
    }
   },
   "id": "8b794b1ccc055100"
  },
  {
   "cell_type": "code",
   "execution_count": 52,
   "outputs": [],
   "source": [
    "c = 0.285 + 0.01j\n",
    "vizualizace_mandelbrot(-2.5, 1, -1.5, 1.5, 1000, 100)\n",
    "vizualizace_julius(c, -2, 2, -2, 2, 1000, 50)\n"
   ],
   "metadata": {
    "collapsed": false,
    "ExecuteTime": {
     "end_time": "2025-05-18T15:21:49.923128300Z",
     "start_time": "2025-05-18T15:20:54.359100600Z"
    }
   },
   "id": "70e3b37fc49d0711"
  }
 ],
 "metadata": {
  "kernelspec": {
   "display_name": "Python 3",
   "language": "python",
   "name": "python3"
  },
  "language_info": {
   "codemirror_mode": {
    "name": "ipython",
    "version": 2
   },
   "file_extension": ".py",
   "mimetype": "text/x-python",
   "name": "python",
   "nbconvert_exporter": "python",
   "pygments_lexer": "ipython2",
   "version": "2.7.6"
  }
 },
 "nbformat": 4,
 "nbformat_minor": 5
}
