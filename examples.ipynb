{
 "cells": [
  {
   "cell_type": "markdown",
   "source": [],
   "metadata": {
    "collapsed": false
   },
   "id": "a32a1dec28d81b53"
  },
  {
   "cell_type": "code",
   "execution_count": 19,
   "outputs": [],
   "source": [
    "from fractals.Mandelbrot import mandelbrot_set, vizualizace_mandelbrot\n",
    "from fractals.Julius import julius_set, vizualizace_julius"
   ],
   "metadata": {
    "collapsed": false,
    "ExecuteTime": {
     "end_time": "2025-05-18T16:34:46.766253200Z",
     "start_time": "2025-05-18T16:34:46.743124100Z"
    }
   },
   "id": "ed49bd73f894aa29"
  },
  {
   "cell_type": "markdown",
   "source": [
    "## Interaktivní ovládání vizualizace\n",
    "\n",
    "- **Slidery** umožňují měnit rozsah zobrazených hodnot na osách `x` a `y` a také počet iterací, což ovlivňuje detailnost fraktálu.\n",
    "- **RadioButtons** slouží ke změně barevné mapy, takže můžete vybírat mezi různými barevnými schématy podle vkusu.\n",
    "- U Juliovy množiny lze měnit i komplexní konstantu `c` pomocí sliderů pro její reálnou a imaginární část, což mění tvar fraktálu."
   ],
   "metadata": {
    "collapsed": false
   },
   "id": "eec5676a90fe3fb0"
  },
  {
   "cell_type": "markdown",
   "source": [
    "## Vizualizace fraktálu pro c = 0.285 + 0.01j"
   ],
   "metadata": {
    "collapsed": false
   },
   "id": "d65fc40f5182391b"
  },
  {
   "cell_type": "code",
   "execution_count": 20,
   "outputs": [],
   "source": [
    "c = 0.285 + 0.01j\n",
    "vizualizace_mandelbrot(-2.5, 1, -1.5, 1.5, 1000, 100)\n",
    "vizualizace_julius(c, -2, 2, -2, 2, 1000, 50)"
   ],
   "metadata": {
    "collapsed": false,
    "ExecuteTime": {
     "end_time": "2025-05-18T16:35:17.288649500Z",
     "start_time": "2025-05-18T16:34:46.759952Z"
    }
   },
   "id": "70e3b37fc49d0711"
  },
  {
   "cell_type": "markdown",
   "source": [
    "## Vizualizace fraktálu pro c = -0.70176 - 0.3842j"
   ],
   "metadata": {
    "collapsed": false
   },
   "id": "a6d22d22bcdc7677"
  },
  {
   "cell_type": "code",
   "execution_count": 21,
   "outputs": [],
   "source": [
    "c = -0.70176 - 0.3842j\n",
    "vizualizace_mandelbrot(-2.5, 1, -1.5, 1.5, 1000, 100)\n",
    "vizualizace_julius(c, -2, 2, -2, 2, 1000, 50)"
   ],
   "metadata": {
    "collapsed": false,
    "ExecuteTime": {
     "end_time": "2025-05-18T16:35:21.990183700Z",
     "start_time": "2025-05-18T16:35:17.290854700Z"
    }
   },
   "id": "d76dd96e32635826"
  },
  {
   "cell_type": "markdown",
   "source": [
    "## Vizualizace fraktálu pro c = 0.355 + 0.355j"
   ],
   "metadata": {
    "collapsed": false
   },
   "id": "b919fb608ee9b3dd"
  },
  {
   "cell_type": "code",
   "execution_count": 22,
   "outputs": [],
   "source": [
    "c = 0.355 + 0.355j\n",
    "vizualizace_mandelbrot(-2.5, 1, -1.5, 1.5, 1000, 100)\n",
    "vizualizace_julius(c, -2, 2, -2, 2, 1000, 50)"
   ],
   "metadata": {
    "collapsed": false,
    "ExecuteTime": {
     "end_time": "2025-05-18T16:35:26.226609500Z",
     "start_time": "2025-05-18T16:35:21.990183700Z"
    }
   },
   "id": "6e946f8884a9b433"
  }
 ],
 "metadata": {
  "kernelspec": {
   "display_name": "Python 3",
   "language": "python",
   "name": "python3"
  },
  "language_info": {
   "codemirror_mode": {
    "name": "ipython",
    "version": 2
   },
   "file_extension": ".py",
   "mimetype": "text/x-python",
   "name": "python",
   "nbconvert_exporter": "python",
   "pygments_lexer": "ipython2",
   "version": "2.7.6"
  }
 },
 "nbformat": 4,
 "nbformat_minor": 5
}
