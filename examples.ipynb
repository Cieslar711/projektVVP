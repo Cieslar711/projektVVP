{
 "cells": [
  {
   "cell_type": "markdown",
   "source": [],
   "metadata": {
    "collapsed": false
   },
   "id": "a32a1dec28d81b53"
  },
  {
   "cell_type": "code",
   "execution_count": 15,
   "outputs": [],
   "source": [
    "from fractals.Mandelbrot import mandelbrot_set, vizualizace_mandelbrot\n",
    "from fractals.Julius import julius_set, vizualizace_julius"
   ],
   "metadata": {
    "collapsed": false,
    "ExecuteTime": {
     "end_time": "2025-05-18T16:14:19.799376100Z",
     "start_time": "2025-05-18T16:14:19.788381100Z"
    }
   },
   "id": "ed49bd73f894aa29"
  },
  {
   "cell_type": "markdown",
   "source": [
    "## Interaktivní ovládání vizualizace\n",
    "\n",
    "- **Slidery** umožňují měnit rozsah zobrazených hodnot na osách `x` a `y` a také počet iterací, což ovlivňuje detailnost fraktálu.\n",
    "- **RadioButtons** slouží ke změně barevné mapy, takže můžete vybírat mezi různými barevnými schématy podle svého vkusu.\n",
    "- U Juliovy množiny lze měnit i komplexní konstantu `c` pomocí sliderů pro její reálnou a imaginární část, což mění tvar fraktálu v reálném čase."
   ],
   "metadata": {
    "collapsed": false
   },
   "id": "eec5676a90fe3fb0"
  },
  {
   "cell_type": "markdown",
   "source": [
    "## Spirálovité struktury\n",
    "Tento parametr generuje Juliovu množinu s jemnými strukturami a relativně klidným vzorem, kde jsou vidět spirály"
   ],
   "metadata": {
    "collapsed": false
   },
   "id": "d65fc40f5182391b"
  },
  {
   "cell_type": "code",
   "execution_count": 16,
   "outputs": [],
   "source": [
    "c = 0.285 + 0.01j\n",
    "vizualizace_mandelbrot(-2.5, 1, -1.5, 1.5, 1000, 100)\n",
    "vizualizace_julius(c, -2, 2, -2, 2, 1000, 50)"
   ],
   "metadata": {
    "collapsed": false,
    "ExecuteTime": {
     "end_time": "2025-05-18T16:14:29.066677100Z",
     "start_time": "2025-05-18T16:14:19.803641900Z"
    }
   },
   "id": "70e3b37fc49d0711"
  },
  {
   "cell_type": "markdown",
   "source": [
    "## Bohaté větvení\n",
    "\n",
    "Tento parametr vytváří složitější, bohatě větvený vzor Juliovy množiny"
   ],
   "metadata": {
    "collapsed": false
   },
   "id": "a6d22d22bcdc7677"
  },
  {
   "cell_type": "code",
   "execution_count": 17,
   "outputs": [],
   "source": [
    "c = -0.70176 - 0.3842j\n",
    "vizualizace_mandelbrot(-2.5, 1, -1.5, 1.5, 1000, 100)\n",
    "vizualizace_julius(c, -2, 2, -2, 2, 1000, 50)"
   ],
   "metadata": {
    "collapsed": false,
    "ExecuteTime": {
     "end_time": "2025-05-18T16:14:33.297718500Z",
     "start_time": "2025-05-18T16:14:29.068900100Z"
    }
   },
   "id": "d76dd96e32635826"
  },
  {
   "cell_type": "markdown",
   "source": [
    "## Listnaté větve \n",
    "\n",
    "Tato hodnota vytváří struktury připomínající listy nebo větve, se symetrickými a kontrastními oblastmi"
   ],
   "metadata": {
    "collapsed": false
   },
   "id": "b919fb608ee9b3dd"
  },
  {
   "cell_type": "code",
   "execution_count": 18,
   "outputs": [],
   "source": [
    "c = 0.355 + 0.355j\n",
    "vizualizace_mandelbrot(-2.5, 1, -1.5, 1.5, 1000, 100)\n",
    "vizualizace_julius(c, -2, 2, -2, 2, 1000, 50)"
   ],
   "metadata": {
    "collapsed": false,
    "ExecuteTime": {
     "end_time": "2025-05-18T16:14:37.395372500Z",
     "start_time": "2025-05-18T16:14:33.303052300Z"
    }
   },
   "id": "6e946f8884a9b433"
  }
 ],
 "metadata": {
  "kernelspec": {
   "display_name": "Python 3",
   "language": "python",
   "name": "python3"
  },
  "language_info": {
   "codemirror_mode": {
    "name": "ipython",
    "version": 2
   },
   "file_extension": ".py",
   "mimetype": "text/x-python",
   "name": "python",
   "nbconvert_exporter": "python",
   "pygments_lexer": "ipython2",
   "version": "2.7.6"
  }
 },
 "nbformat": 4,
 "nbformat_minor": 5
}
