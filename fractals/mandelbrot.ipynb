{
 "cells": [
  {
   "cell_type": "markdown",
   "source": [
    "## Import potřebných knihoven\n",
    "\n",
    "Používáme standardní knihovny pro práci s numerickými daty a vizualizaci:\n",
    "\n",
    "- `numpy` pro efektivní výpočty\n",
    "- `matplotlib.pyplot` pro kreslení obrázků\n",
    "- `ipywidgets` pro interaktivní prvky (např. změna colormap)"
   ],
   "metadata": {
    "collapsed": false
   },
   "id": "41170b4b79975c67"
  },
  {
   "cell_type": "code",
   "execution_count": 12,
   "outputs": [],
   "source": [
    "import numpy as np\n",
    "import matplotlib\n",
    "import matplotlib.pyplot as plt\n",
    "from matplotlib.widgets import Slider,RadioButtons, RangeSlider\n",
    "\n",
    "matplotlib.use('TkAgg')"
   ],
   "metadata": {
    "collapsed": false,
    "ExecuteTime": {
     "end_time": "2025-05-18T15:18:31.124275900Z",
     "start_time": "2025-05-18T15:18:31.119276800Z"
    }
   },
   "id": "e190cfc49a5a055"
  },
  {
   "cell_type": "markdown",
   "source": [
    "## Funkce pro Mandelbrotovu množinu\n",
    "\n",
    "Ve funkci `mandelbrot_set` generujeme **Mandelbrotovu množinu** pomocí zjištění zda daný bod diverguje a následném výpočtu $z_0 = 0, \\quad z_{n+1} = z_n^2 + c$\n",
    "\n",
    "### Parametry\n",
    "- `x_min`, `x_max` – rozsah reálné části komplexních čísel\n",
    "- `y_min`, `y_max` – rozsah imaginární části\n",
    "- `n` – Počet bodů na ose x a y, které kontrolujeme\n",
    "- `k` – Maximální počet iterací\n",
    "\n",
    "### Výstup\n",
    "- 2D matice o rozměrech $n \\times n$ reprezentující Mandelbrotovu množinu "
   ],
   "metadata": {
    "collapsed": false
   },
   "id": "2d903d07f6dd507e"
  },
  {
   "cell_type": "code",
   "execution_count": 13,
   "outputs": [],
   "source": [
    "def mandelbrot_set(x_min: float, x_max: float, y_min: float, y_max: float, n: int, k: int):\n",
    "    x = np.linspace(x_min, x_max, n)\n",
    "    y = np.linspace(y_min, y_max, n)\n",
    "    x_realne, y_imaginarni = np.meshgrid(x, y)\n",
    "    matice_komplexnich_cisel = x_realne + y_imaginarni * 1j\n",
    "    divergence_matrix = np.zeros((n, n), dtype=int)\n",
    "    matice_z = np.zeros((n, n), dtype=complex)\n",
    "    for i in range(k):\n",
    "        kontrola = np.abs(matice_z) < 2\n",
    "        matice_z[kontrola] = matice_z[kontrola] ** 2 + matice_komplexnich_cisel[kontrola]\n",
    "        divergence_matrix = np.where((np.absolute(matice_z) >= 2) & (divergence_matrix == 0), i, divergence_matrix)\n",
    "\n",
    "    divergence_matrix = np.where(divergence_matrix == 0, k, divergence_matrix)\n",
    "\n",
    "    return divergence_matrix"
   ],
   "metadata": {
    "collapsed": false,
    "ExecuteTime": {
     "end_time": "2025-05-18T15:18:31.140399Z",
     "start_time": "2025-05-18T15:18:31.131786100Z"
    }
   },
   "id": "df599c19c3a1a66e"
  },
  {
   "cell_type": "markdown",
   "source": [
    "## Vizualizace Mandelbrotovy množiny\n",
    "\n",
    "Ve funkci vizualizace_mandelbrot vykreslujeme pomocí knihovny matplotlib.pyplot Mandelbrotovu množinu s interaktivními prvky\n",
    "\n",
    "### Parametry \n",
    "- `x_min`, `x_max` – rozsah reálné části komplexních čísel\n",
    "- `y_min`, `y_max` – rozsah imaginární části\n",
    "- `n` – Počet bodů na ose x a y, které kontrolujeme\n",
    "- `k` – Maximální počet iterací\n",
    "\n",
    "### Pomocné funkce\n",
    "- `change_cmap` - slouží ke změně barevného schématu za využití RadioButtons z knihovny matplotlib.widgets\n",
    "- `update` - slouží ke změně vykreslení po změně jednoho ze sliderů(počet iterací, rozsah x_min, x_max, y_min, y_max)\n",
    "\n",
    "### Popis funkce \n",
    "Funkce `vizualizace_mandelbrot` vykreslí Mandelbrotovu množinu s možností interaktivního nastavení rozsahů a parametrů přes uživatelské ovládací prvky (slidery, range slidery a radio tlačítka)."
   ],
   "metadata": {
    "collapsed": false
   },
   "id": "5c27b3109cbe6b78"
  },
  {
   "cell_type": "code",
   "execution_count": 14,
   "outputs": [],
   "source": [
    "def vizualizace_mandelbrot(x_min: float, x_max: float, y_min: float, y_max: float, n: int, k: int):\n",
    "    divergence_matrix = mandelbrot_set(x_min, x_max, y_min, y_max, n, k)\n",
    "    fig, ax = plt.subplots()\n",
    "    obrazec = plt.imshow(divergence_matrix, cmap='inferno', extent=(x_min, x_max, y_min, y_max))\n",
    "\n",
    "    ax_iterations = plt.axes([0.20, 0.1, 0.65, 0.03], facecolor='lightgoldenrodyellow')\n",
    "    it_slider = Slider(ax_iterations, 'Počet iterací', 50, 1000, valinit=k, valstep=1)\n",
    "\n",
    "    radio_background = 'lightgoldenrodyellow'\n",
    "    color_map = plt.axes([0.05, 0.4, 0.2, 0.4], facecolor=radio_background)\n",
    "    cmap_options = ['inferno', 'plasma', 'viridis', 'magma']\n",
    "    radio = RadioButtons(color_map, cmap_options)\n",
    "\n",
    "    slider_ax = fig.add_axes([0.20, 0.04, 0.60, 0.03])\n",
    "    slider_x = RangeSlider(slider_ax, \"Osa x\", x_min, x_max)\n",
    "    slider_ay = fig.add_axes([0.20, 0.005, 0.60, 0.03])\n",
    "    slider_y = RangeSlider(slider_ay, \"Osa y\", y_min, y_max)\n",
    "\n",
    "\n",
    "    def change_cmap(label):\n",
    "        obrazec.set_cmap(label)\n",
    "        fig.canvas.draw_idle()\n",
    "\n",
    "    radio.on_clicked(change_cmap)\n",
    "\n",
    "    ax.set_xlabel('reálná část')\n",
    "    ax.set_ylabel('imaginární část')\n",
    "    ax.set_title(\"Mandelbrotova množina\")\n",
    "\n",
    "    def update(val):\n",
    "        x_min_update, x_max_update = slider_x.val\n",
    "        y_min_update, y_max_update = slider_y.val\n",
    "        k_update = it_slider.val\n",
    "        divergence_matrix = mandelbrot_set(x_min_update, x_max_update, y_min_update, y_max_update, n, k_update)\n",
    "        obrazec.set_data(divergence_matrix)\n",
    "        obrazec.set_extent((x_min_update, x_max_update, y_min_update, y_max_update))\n",
    "        fig.canvas.draw_idle()\n",
    "\n",
    "    plt.subplots_adjust(bottom=0.25)\n",
    "    slider_x.on_changed(update)\n",
    "    slider_y.on_changed(update)\n",
    "    it_slider.on_changed(update)\n",
    "    plt.ion()\n",
    "    plt.show(block=True)"
   ],
   "metadata": {
    "collapsed": false,
    "ExecuteTime": {
     "end_time": "2025-05-18T15:18:31.157312500Z",
     "start_time": "2025-05-18T15:18:31.153968800Z"
    }
   },
   "id": "fdd27fdb669c2d23"
  },
  {
   "cell_type": "code",
   "execution_count": 15,
   "outputs": [],
   "source": [
    "vizualizace_mandelbrot(-2.5, 1, -1.5, 1.5, 1000, 100)"
   ],
   "metadata": {
    "collapsed": false,
    "ExecuteTime": {
     "end_time": "2025-05-18T15:18:35.210443700Z",
     "start_time": "2025-05-18T15:18:31.176772600Z"
    }
   },
   "id": "e30a5819eff75ab9"
  }
 ],
 "metadata": {
  "kernelspec": {
   "display_name": "Python 3",
   "language": "python",
   "name": "python3"
  },
  "language_info": {
   "codemirror_mode": {
    "name": "ipython",
    "version": 2
   },
   "file_extension": ".py",
   "mimetype": "text/x-python",
   "name": "python",
   "nbconvert_exporter": "python",
   "pygments_lexer": "ipython2",
   "version": "2.7.6"
  }
 },
 "nbformat": 4,
 "nbformat_minor": 5
}
