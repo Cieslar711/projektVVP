{
 "cells": [
  {
   "cell_type": "markdown",
   "source": [
    "## Import potřebných knihoven\n",
    "\n",
    "Používáme standardní knihovny pro práci s numerickými daty a vizualizaci:\n",
    "\n",
    "- `numpy` pro efektivní výpočty\n",
    "- `matplotlib.pyplot` pro kreslení obrázků\n",
    "- `ipywidgets` pro interaktivní prvky (např. změna colormap)"
   ],
   "metadata": {
    "collapsed": false
   },
   "id": "af3042759a2d1c2c"
  },
  {
   "cell_type": "markdown",
   "source": [
    "- ## Funkce pro Juliovu množinu\n",
    "\n",
    "Ve funkci `julius_set` generujeme **Juliovu množinu** pro dané komplexní číslo `c` pomocí vzorečku: $\n",
    "z_{n+1} = z_n^2 + c\n",
    "$\n",
    "\n",
    "### Parametry\n",
    "- `c` - komplexní konstanta určující tvar množiny\n",
    "- `x_min`, `x_max` – rozsah reálné části komplexních čísel\n",
    "- `y_min`, `y_max` – rozsah imaginární části\n",
    "- `n` – Počet bodů na ose x a y\n",
    "- `k` – Maximální počet iterací\n",
    "\n",
    "### Výstup\n",
    "- 2D matice o rozměrech $n \\times n$ reprezentující Juliovu množinu"
   ],
   "metadata": {
    "collapsed": false
   },
   "id": "e3ee577a4bb91997"
  },
  {
   "cell_type": "code",
   "execution_count": 1,
   "outputs": [],
   "source": [
    "import numpy as np\n",
    "import matplotlib\n",
    "import matplotlib.pyplot as plt\n",
    "from matplotlib.widgets import Slider,RadioButtons, RangeSlider\n",
    "\n",
    "matplotlib.use('TkAgg')"
   ],
   "metadata": {
    "collapsed": false,
    "ExecuteTime": {
     "end_time": "2025-05-18T15:08:14.824668700Z",
     "start_time": "2025-05-18T15:08:14.058329200Z"
    }
   },
   "id": "78fee79980bce784"
  },
  {
   "cell_type": "code",
   "execution_count": 2,
   "outputs": [],
   "source": [
    "def julius_set(c: complex, x_min: float, x_max: float, y_min: float, y_max: float, n: int, k: int):\n",
    "    x = np.linspace(x_min, x_max, n)\n",
    "    y = np.linspace(y_min, y_max, n)\n",
    "    x_realne, y_imaginarni = np.meshgrid(x, y)\n",
    "    matice_komplexnich_cisel = x_realne + y_imaginarni * 1j\n",
    "    divergence_matrix = np.zeros((n, n), dtype=int)\n",
    "\n",
    "    for i in range(k):\n",
    "        kontrola = np.abs(matice_komplexnich_cisel) < 2\n",
    "        matice_komplexnich_cisel[kontrola] = matice_komplexnich_cisel[kontrola] ** 2 + c\n",
    "        divergence_matrix = np.where((np.absolute(matice_komplexnich_cisel) >= 2) & (divergence_matrix == 0), i, divergence_matrix)\n",
    "\n",
    "    divergence_matrix = np.where(divergence_matrix == 0, k, divergence_matrix)\n",
    "\n",
    "    return divergence_matrix"
   ],
   "metadata": {
    "collapsed": false,
    "ExecuteTime": {
     "end_time": "2025-05-18T15:08:14.833626300Z",
     "start_time": "2025-05-18T15:08:14.826674400Z"
    }
   },
   "id": "f29ccec944a4ef5f"
  },
  {
   "cell_type": "markdown",
   "source": [
    "## Vizualizace Juliovy množiny\n",
    "\n",
    "Ve funkci vizualizace_julius vykreslujeme pomocí knihovny matplotlib.pyplot Juliovu množinu s interaktivními prvky\n",
    "\n",
    "### Parametry \n",
    "- `c` - komplexní konstanta určující tvar množiny\n",
    "- `x_min`, `x_max` – rozsah reálné části komplexních čísel\n",
    "- `y_min`, `y_max` – rozsah imaginární části\n",
    "- `n` – Počet bodů na ose x a y, které kontrolujeme\n",
    "- `k` – Maximální počet iterací\n",
    "\n",
    "### Pomocné funkce\n",
    "- `change_cmap` - slouží ke změně barevného schématu za využití RadioButtons z knihovny matplotlib.widgets\n",
    "- `update` - slouží ke změně vykreslení po změně jednoho ze sliderů(počet iterací, rozsah x_min, x_max, y_min, y_max, komplexní konstanta c)\n",
    "\n",
    "### Popis funkce \n",
    "Funkce `vizualizace_julius` vykreslí Juliovu množinu s možností interaktivního nastavení rozsahů a parametrů přes uživatelské ovládací prvky (slidery, range slidery a radio tlačítka)."
   ],
   "metadata": {
    "collapsed": false
   },
   "id": "8d89a8f905c883c6"
  },
  {
   "cell_type": "code",
   "execution_count": 3,
   "outputs": [],
   "source": [
    "def vizualizace_julius(c: complex, x_min: float, x_max: float, y_min: float, y_max: float, n: int, k: int):\n",
    "    divergence_matrix = julius_set(c, x_min, x_max, y_min, y_max, n, k)\n",
    "    init_real = 0.285\n",
    "    init_imag = 0.01\n",
    "    c_init = complex(init_real, init_imag)\n",
    "    fig, ax = plt.subplots()\n",
    "    ax.set_xlabel('reálná část')\n",
    "    ax.set_ylabel('imaginární část')\n",
    "    ax.set_title(\"Juliova množina\")\n",
    "    plt.subplots_adjust(bottom = 0.25)\n",
    "    obrazec = ax.imshow(divergence_matrix, cmap='twilight', extent=(x_min, x_max, y_min, y_max))\n",
    "\n",
    "    ax_real = plt.axes([0.20, 0.18, 0.65, 0.03], facecolor='lightgoldenrodyellow')\n",
    "    real_slider = Slider(ax_real, 'Reálná část', x_min, x_max, valinit=c.real)\n",
    "\n",
    "    ax_imag = plt.axes([0.20, 0.13, 0.65, 0.03], facecolor='lightgoldenrodyellow')\n",
    "    imag_slider = Slider(ax_imag, 'Imaginární část', y_min, y_max, valinit=c.imag)\n",
    "\n",
    "    ax_iterations = plt.axes([0.20, 0.08, 0.65, 0.03], facecolor='lightgoldenrodyellow')\n",
    "    it_slider = Slider(ax_iterations, 'Počet iterací', 50, 1000, valinit=k, valstep=1)\n",
    "\n",
    "    slider_ax = fig.add_axes([0.20, 0.03, 0.60, 0.03])\n",
    "    slider_x = RangeSlider(slider_ax, \"Osa x\", x_min, x_max)\n",
    "    slider_ay = fig.add_axes([0.20, 0.00, 0.60, 0.03])\n",
    "    slider_y = RangeSlider(slider_ay, \"Osa y\", y_min, y_max)\n",
    "\n",
    "    radio_background = 'lightgoldenrodyellow'\n",
    "    color_map = plt.axes([0.05, 0.4, 0.2, 0.4], facecolor=radio_background)\n",
    "    cmap_options = ['inferno', 'plasma', 'viridis', 'magma']\n",
    "    radio = RadioButtons(color_map, cmap_options)\n",
    "\n",
    "    def change_cmap(label):\n",
    "        obrazec.set_cmap(label)\n",
    "        fig.canvas.draw_idle()\n",
    "\n",
    "    radio.on_clicked(change_cmap)\n",
    "\n",
    "    def update(val):\n",
    "        c = complex(real_slider.val, imag_slider.val)\n",
    "        x_min_update, x_max_update = slider_x.val\n",
    "        y_min_update, y_max_update = slider_y.val\n",
    "        k_update = it_slider.val\n",
    "        divergence_matrix = julius_set(c, x_min_update, x_max_update, y_min_update, y_max_update, n, k_update)\n",
    "        obrazec.set_data(divergence_matrix)\n",
    "        fig.canvas.draw_idle()\n",
    "\n",
    "    real_slider.on_changed(update)\n",
    "    imag_slider.on_changed(update)\n",
    "    slider_x.on_changed(update)\n",
    "    slider_y.on_changed(update)\n",
    "    it_slider.on_changed(update)\n",
    "    plt.subplots_adjust(bottom=0.3)\n",
    "    plt.ion()\n",
    "    plt.show(block=True)"
   ],
   "metadata": {
    "collapsed": false,
    "ExecuteTime": {
     "end_time": "2025-05-18T15:08:14.848027700Z",
     "start_time": "2025-05-18T15:08:14.830609700Z"
    }
   },
   "id": "74463ac4927b67a9"
  }
 ],
 "metadata": {
  "kernelspec": {
   "display_name": "Python 3",
   "language": "python",
   "name": "python3"
  },
  "language_info": {
   "codemirror_mode": {
    "name": "ipython",
    "version": 2
   },
   "file_extension": ".py",
   "mimetype": "text/x-python",
   "name": "python",
   "nbconvert_exporter": "python",
   "pygments_lexer": "ipython2",
   "version": "2.7.6"
  }
 },
 "nbformat": 4,
 "nbformat_minor": 5
}
